{
 "cells": [
  {
   "cell_type": "code",
   "execution_count": 14,
   "metadata": {},
   "outputs": [],
   "source": [
    "from selenium import webdriver\n",
    "from selenium.webdriver.chrome.service import Service as ChromeService\n",
    "from webdriver_manager.chrome import ChromeDriverManager\n",
    "from selenium.webdriver.common.by import By\n",
    "from selenium.webdriver.support.ui import WebDriverWait as wait\n",
    "from selenium.webdriver.support import expected_conditions as EC"
   ]
  },
  {
   "cell_type": "code",
   "execution_count": 15,
   "metadata": {},
   "outputs": [
    {
     "ename": "PermissionError",
     "evalue": "[WinError 5] Access is denied: 'C:\\\\Users\\\\rbmoh\\\\.wdm\\\\drivers\\\\chromedriver\\\\win64\\\\118.0.5993.120\\\\chromedriver-win32\\\\chromedriver.exe' -> 'C:\\\\Users\\\\rbmoh\\\\.wdm\\\\drivers\\\\chromedriver\\\\win64\\\\118.0.5993.120\\\\chromedriver.exe'",
     "output_type": "error",
     "traceback": [
      "\u001b[1;31m---------------------------------------------------------------------------\u001b[0m",
      "\u001b[1;31mPermissionError\u001b[0m                           Traceback (most recent call last)",
      "File \u001b[1;32mc:\\Python311\\Lib\\site-packages\\webdriver_manager\\core\\file_manager.py:65\u001b[0m, in \u001b[0;36mFileManager.__extract_zip\u001b[1;34m(self, archive_file, to_directory)\u001b[0m\n\u001b[0;32m     64\u001b[0m \u001b[39mtry\u001b[39;00m:\n\u001b[1;32m---> 65\u001b[0m     archive\u001b[39m.\u001b[39;49mextractall(to_directory)\n\u001b[0;32m     66\u001b[0m \u001b[39mexcept\u001b[39;00m \u001b[39mException\u001b[39;00m \u001b[39mas\u001b[39;00m e:\n",
      "File \u001b[1;32mc:\\Python311\\Lib\\zipfile.py:1681\u001b[0m, in \u001b[0;36mZipFile.extractall\u001b[1;34m(self, path, members, pwd)\u001b[0m\n\u001b[0;32m   1680\u001b[0m \u001b[39mfor\u001b[39;00m zipinfo \u001b[39min\u001b[39;00m members:\n\u001b[1;32m-> 1681\u001b[0m     \u001b[39mself\u001b[39;49m\u001b[39m.\u001b[39;49m_extract_member(zipinfo, path, pwd)\n",
      "File \u001b[1;32mc:\\Python311\\Lib\\zipfile.py:1735\u001b[0m, in \u001b[0;36mZipFile._extract_member\u001b[1;34m(self, member, targetpath, pwd)\u001b[0m\n\u001b[0;32m   1732\u001b[0m     \u001b[39mreturn\u001b[39;00m targetpath\n\u001b[0;32m   1734\u001b[0m \u001b[39mwith\u001b[39;00m \u001b[39mself\u001b[39m\u001b[39m.\u001b[39mopen(member, pwd\u001b[39m=\u001b[39mpwd) \u001b[39mas\u001b[39;00m source, \\\n\u001b[1;32m-> 1735\u001b[0m      \u001b[39mopen\u001b[39m(targetpath, \u001b[39m\"\u001b[39m\u001b[39mwb\u001b[39m\u001b[39m\"\u001b[39m) \u001b[39mas\u001b[39;00m target:\n\u001b[0;32m   1736\u001b[0m     shutil\u001b[39m.\u001b[39mcopyfileobj(source, target)\n",
      "\u001b[1;31mPermissionError\u001b[0m: [Errno 13] Permission denied: 'C:\\\\Users\\\\rbmoh\\\\.wdm\\\\drivers\\\\chromedriver\\\\win64\\\\118.0.5993.120\\\\chromedriver-win32\\\\chromedriver.exe'",
      "\nDuring handling of the above exception, another exception occurred:\n",
      "\u001b[1;31mPermissionError\u001b[0m                           Traceback (most recent call last)",
      "\u001b[1;32mc:\\Users\\rbmoh\\OneDrive\\Desktop\\Codes\\selecto\\web_scrapping\\test.ipynb Cell 2\u001b[0m line \u001b[0;36m5\n\u001b[0;32m      <a href='vscode-notebook-cell:/c%3A/Users/rbmoh/OneDrive/Desktop/Codes/selecto/web_scrapping/test.ipynb#W1sZmlsZQ%3D%3D?line=1'>2</a>\u001b[0m options \u001b[39m=\u001b[39m webdriver\u001b[39m.\u001b[39mChromeOptions()\n\u001b[0;32m      <a href='vscode-notebook-cell:/c%3A/Users/rbmoh/OneDrive/Desktop/Codes/selecto/web_scrapping/test.ipynb#W1sZmlsZQ%3D%3D?line=2'>3</a>\u001b[0m options\u001b[39m.\u001b[39madd_argument(\u001b[39m'\u001b[39m\u001b[39m--headless\u001b[39m\u001b[39m'\u001b[39m)\n\u001b[1;32m----> <a href='vscode-notebook-cell:/c%3A/Users/rbmoh/OneDrive/Desktop/Codes/selecto/web_scrapping/test.ipynb#W1sZmlsZQ%3D%3D?line=4'>5</a>\u001b[0m driver \u001b[39m=\u001b[39m webdriver\u001b[39m.\u001b[39mChrome(service\u001b[39m=\u001b[39mChromeService(ChromeDriverManager()\u001b[39m.\u001b[39;49minstall()))\n\u001b[0;32m      <a href='vscode-notebook-cell:/c%3A/Users/rbmoh/OneDrive/Desktop/Codes/selecto/web_scrapping/test.ipynb#W1sZmlsZQ%3D%3D?line=5'>6</a>\u001b[0m driver\u001b[39m.\u001b[39mget(web)\n\u001b[0;32m      <a href='vscode-notebook-cell:/c%3A/Users/rbmoh/OneDrive/Desktop/Codes/selecto/web_scrapping/test.ipynb#W1sZmlsZQ%3D%3D?line=7'>8</a>\u001b[0m driver\u001b[39m.\u001b[39mimplicitly_wait(\u001b[39m5\u001b[39m)\n",
      "File \u001b[1;32mc:\\Python311\\Lib\\site-packages\\webdriver_manager\\chrome.py:40\u001b[0m, in \u001b[0;36mChromeDriverManager.install\u001b[1;34m(self)\u001b[0m\n\u001b[0;32m     39\u001b[0m \u001b[39mdef\u001b[39;00m \u001b[39minstall\u001b[39m(\u001b[39mself\u001b[39m) \u001b[39m-\u001b[39m\u001b[39m>\u001b[39m \u001b[39mstr\u001b[39m:\n\u001b[1;32m---> 40\u001b[0m     driver_path \u001b[39m=\u001b[39m \u001b[39mself\u001b[39;49m\u001b[39m.\u001b[39;49m_get_driver_binary_path(\u001b[39mself\u001b[39;49m\u001b[39m.\u001b[39;49mdriver)\n\u001b[0;32m     41\u001b[0m     os\u001b[39m.\u001b[39mchmod(driver_path, \u001b[39m0o755\u001b[39m)\n\u001b[0;32m     42\u001b[0m     \u001b[39mreturn\u001b[39;00m driver_path\n",
      "File \u001b[1;32mc:\\Python311\\Lib\\site-packages\\webdriver_manager\\core\\manager.py:41\u001b[0m, in \u001b[0;36mDriverManager._get_driver_binary_path\u001b[1;34m(self, driver)\u001b[0m\n\u001b[0;32m     39\u001b[0m os_type \u001b[39m=\u001b[39m \u001b[39mself\u001b[39m\u001b[39m.\u001b[39mget_os_type()\n\u001b[0;32m     40\u001b[0m file \u001b[39m=\u001b[39m \u001b[39mself\u001b[39m\u001b[39m.\u001b[39m_download_manager\u001b[39m.\u001b[39mdownload_file(driver\u001b[39m.\u001b[39mget_driver_download_url(os_type))\n\u001b[1;32m---> 41\u001b[0m binary_path \u001b[39m=\u001b[39m \u001b[39mself\u001b[39;49m\u001b[39m.\u001b[39;49m_cache_manager\u001b[39m.\u001b[39;49msave_file_to_cache(driver, file)\n\u001b[0;32m     42\u001b[0m \u001b[39mreturn\u001b[39;00m binary_path\n",
      "File \u001b[1;32mc:\\Python311\\Lib\\site-packages\\webdriver_manager\\core\\driver_cache.py:54\u001b[0m, in \u001b[0;36mDriverCacheManager.save_file_to_cache\u001b[1;34m(self, driver, file)\u001b[0m\n\u001b[0;32m     52\u001b[0m path \u001b[39m=\u001b[39m \u001b[39mself\u001b[39m\u001b[39m.\u001b[39m__get_path(driver)\n\u001b[0;32m     53\u001b[0m archive \u001b[39m=\u001b[39m \u001b[39mself\u001b[39m\u001b[39m.\u001b[39msave_archive_file(file, path)\n\u001b[1;32m---> 54\u001b[0m files \u001b[39m=\u001b[39m \u001b[39mself\u001b[39;49m\u001b[39m.\u001b[39;49munpack_archive(archive, path)\n\u001b[0;32m     55\u001b[0m binary \u001b[39m=\u001b[39m \u001b[39mself\u001b[39m\u001b[39m.\u001b[39m__get_binary(files, driver\u001b[39m.\u001b[39mget_name())\n\u001b[0;32m     56\u001b[0m binary_path \u001b[39m=\u001b[39m os\u001b[39m.\u001b[39mpath\u001b[39m.\u001b[39mjoin(path, binary)\n",
      "File \u001b[1;32mc:\\Python311\\Lib\\site-packages\\webdriver_manager\\core\\driver_cache.py:49\u001b[0m, in \u001b[0;36mDriverCacheManager.unpack_archive\u001b[1;34m(self, archive, path)\u001b[0m\n\u001b[0;32m     48\u001b[0m \u001b[39mdef\u001b[39;00m \u001b[39munpack_archive\u001b[39m(\u001b[39mself\u001b[39m, archive, path):\n\u001b[1;32m---> 49\u001b[0m     \u001b[39mreturn\u001b[39;00m \u001b[39mself\u001b[39;49m\u001b[39m.\u001b[39;49m_file_manager\u001b[39m.\u001b[39;49munpack_archive(archive, path)\n",
      "File \u001b[1;32mc:\\Python311\\Lib\\site-packages\\webdriver_manager\\core\\file_manager.py:57\u001b[0m, in \u001b[0;36mFileManager.unpack_archive\u001b[1;34m(self, archive_file, target_dir)\u001b[0m\n\u001b[0;32m     55\u001b[0m file_path \u001b[39m=\u001b[39m archive_file\u001b[39m.\u001b[39mfile_path\n\u001b[0;32m     56\u001b[0m \u001b[39mif\u001b[39;00m file_path\u001b[39m.\u001b[39mendswith(\u001b[39m\"\u001b[39m\u001b[39m.zip\u001b[39m\u001b[39m\"\u001b[39m):\n\u001b[1;32m---> 57\u001b[0m     \u001b[39mreturn\u001b[39;00m \u001b[39mself\u001b[39;49m\u001b[39m.\u001b[39;49m__extract_zip(archive_file, target_dir)\n\u001b[0;32m     58\u001b[0m \u001b[39melif\u001b[39;00m file_path\u001b[39m.\u001b[39mendswith(\u001b[39m\"\u001b[39m\u001b[39m.tar.gz\u001b[39m\u001b[39m\"\u001b[39m):\n\u001b[0;32m     59\u001b[0m     \u001b[39mreturn\u001b[39;00m \u001b[39mself\u001b[39m\u001b[39m.\u001b[39m__extract_tar_file(archive_file, target_dir)\n",
      "File \u001b[1;32mc:\\Python311\\Lib\\site-packages\\webdriver_manager\\core\\file_manager.py:81\u001b[0m, in \u001b[0;36mFileManager.__extract_zip\u001b[1;34m(self, archive_file, to_directory)\u001b[0m\n\u001b[0;32m     79\u001b[0m         source \u001b[39m=\u001b[39m os\u001b[39m.\u001b[39mpath\u001b[39m.\u001b[39mjoin(full_file_path, file_name)\n\u001b[0;32m     80\u001b[0m         destination \u001b[39m=\u001b[39m os\u001b[39m.\u001b[39mpath\u001b[39m.\u001b[39mjoin(to_directory, file_name)\n\u001b[1;32m---> 81\u001b[0m         os\u001b[39m.\u001b[39mreplace(source, destination)\n\u001b[0;32m     82\u001b[0m         file_names\u001b[39m.\u001b[39mappend(file_name)\n\u001b[0;32m     83\u001b[0m \u001b[39mreturn\u001b[39;00m \u001b[39msorted\u001b[39m(file_names, key\u001b[39m=\u001b[39m\u001b[39mlambda\u001b[39;00m x: x\u001b[39m.\u001b[39mlower())\n",
      "\u001b[1;31mPermissionError\u001b[0m: [WinError 5] Access is denied: 'C:\\\\Users\\\\rbmoh\\\\.wdm\\\\drivers\\\\chromedriver\\\\win64\\\\118.0.5993.120\\\\chromedriver-win32\\\\chromedriver.exe' -> 'C:\\\\Users\\\\rbmoh\\\\.wdm\\\\drivers\\\\chromedriver\\\\win64\\\\118.0.5993.120\\\\chromedriver.exe'"
     ]
    }
   ],
   "source": [
    "\n",
    "web = 'https://www.amazon.com'\n",
    "options = webdriver.ChromeOptions()\n",
    "options.add_argument('--headless')\n",
    "\n",
    "driver = webdriver.Chrome(service=ChromeService(ChromeDriverManager().install()))\n",
    "driver.get(web)\n",
    "\n",
    "driver.implicitly_wait(5)\n",
    "keyword = \"Dark Horse Deluxe The Witcher III: The Wild Hunt:\"\n",
    "search = driver.find_element(By.ID, 'twotabsearchtextbox')\n",
    "search.send_keys(keyword)\n",
    "# click search button\n",
    "search_button = driver.find_element(By.ID, 'nav-search-submit-button')\n",
    "search_button.click()\n",
    "reviews = []\n",
    "driver.implicitly_wait(5)"
   ]
  },
  {
   "cell_type": "code",
   "execution_count": null,
   "metadata": {},
   "outputs": [
    {
     "name": "stdout",
     "output_type": "stream",
     "text": [
      "B01DTDKSDS\n",
      "https://www.amazon.com/product-reviews/B01DTDKSDS/\n"
     ]
    }
   ],
   "source": [
    "\n",
    "items = wait(driver, 10).until(EC.presence_of_all_elements_located((By.XPATH, '//div[contains(@class, \"s-result-item s-asin\")]')))\n",
    "for item in items:\n",
    "    # find ASIN number \n",
    "    data_asin = item.get_attribute(\"data-asin\")\n",
    "    product_asin = data_asin\n",
    "    break\n",
    "print(product_asin)\n",
    "web = \"https://www.amazon.com/product-reviews/\" + product_asin + \"/\"\n",
    "print(web)\n",
    "driver.get(web)\n",
    "driver.implicitly_wait(5)"
   ]
  },
  {
   "cell_type": "code",
   "execution_count": null,
   "metadata": {},
   "outputs": [],
   "source": [
    "\n",
    "items = wait(driver, 10).until(EC.presence_of_all_elements_located((By.XPATH, '//div[contains(@class, \"a-row a-spacing-small review-data\")]')))\n",
    "for item in items:\n",
    "    review = item.find_element(By.XPATH, './/span[@class=\"a-size-base review-text review-text-content\"]')\n",
    "    reviews.append(review.text)\n",
    "\n",
    "next_page = driver.find_element(By.XPATH,'//li[contains(@class, \"a-last\")]')\n",
    "print(next_page)\n"
   ]
  },
  {
   "cell_type": "code",
   "execution_count": null,
   "metadata": {},
   "outputs": [
    {
     "name": "stdout",
     "output_type": "stream",
     "text": [
      "['The detail is amazing', 'THis statue really pops. This is supposedly a \"figure\" but when I think figure, I think articulation. This is a plastic statue or large plastic figurine with no articulation at all. I would have much rather gotten a 6 or 7-inch action figure this detailed, the likes of a good modern NECA figure, but nope, it is a statue. That said, and knowing that before buying it, it is a great statue of a cool character from one of my all-time favorite games. I have paid two or three times more for PVC statue figures with this level of detail and quality, so no complaints here at all for what it is. It was slightly scuffed is the only issue but a little rub with a glass cloth and it was good to go.', 'I also have the premium Prime 1 Studio figure of Triss. Tried & failed to get a photo of both together downloaded for this review. This smaller figure is great because you have more options for display, or if you happen to want her on your desk. The Prime 1 Studio figure weighs 30lbs (?), is 22\" high, and is $750. Also, the Prime 1 Studio figure is standing in the middle of dead monster guts. This smaller figure is nice because your brain doesn\\'t have to reconcile the lovely Triss with monster guts. You could enjoy a meal with small Triss in a tavern. Large Triss probably reeks of monster guts, making it difficult for you to order haggis. Buy this one, save $800, and enjoy!', \"As this Triss figure was into first wave her face is as horrible as possible. second wave in this series has way better facepaint. overall very beautiful and impressive figure, costume and sculpting is amazing ! if you don't go close her face look just fine under the realistic lighting, not great for close up photography. I also got DLC Yen and Ciri and they have way better facepaint. I hope Dark Horse gonna release DLC Triss so her face will be better . Overall must have for the lineup\", 'If you are a Witcher fan you will love this!', 'The figure looks very good, only complaint is the paint job on the face- but that was expected. Note: I repainted the face in my image, this is NOT the original (:', 'The colors pop and her pose is slightly more \"animated\" than the others, as if she is readying a spell. Problems like the face paint not matching the neck or chest and the eyes being slightly uneven are a minor annoyance, but given the sub-$30 price tag, not unexpected. Still, my biggest problem with these are the massive trophy-like bases. They\\'re overwhelming and unnecessary.\\n\\nDespite the issues, these are still very cool collectibles, and the entire set can be had for the same price as the Geralt mini bust soon to be released. I\\'m looking forward to the next set in this series.', 'I bought this for my BFF since he loves the Witcher and Triss and he loves it. This is the second figure I have gotten him and they are beautiful.', \"I am a huge fan of the Witcher 3 it is one of the best games of this generation. As a fan I have branched outside of the games. I read three of the novels and two volumes of the graphic novels. I bought this statue it was cheap and great for collectors. It comes with Triss' default clothing from the Witcher 3 and the base is the logo for the School of the Wolf. It's very well made for its price a must for Witcher Fans!\", \"Other than the hair being a little different shade than what I thought it should be i love it! I'm very happy to get to have Triss hanging around, I'll probably get Geralt and Ciri eventually as well but not Yenn because she's always so cranky and selfish. I completely recommend this figure.\"]\n"
     ]
    }
   ],
   "source": [
    "driver.quit()\n",
    "print(reviews)"
   ]
  }
 ],
 "metadata": {
  "kernelspec": {
   "display_name": "Python 3",
   "language": "python",
   "name": "python3"
  },
  "language_info": {
   "codemirror_mode": {
    "name": "ipython",
    "version": 3
   },
   "file_extension": ".py",
   "mimetype": "text/x-python",
   "name": "python",
   "nbconvert_exporter": "python",
   "pygments_lexer": "ipython3",
   "version": "3.11.5"
  }
 },
 "nbformat": 4,
 "nbformat_minor": 2
}
